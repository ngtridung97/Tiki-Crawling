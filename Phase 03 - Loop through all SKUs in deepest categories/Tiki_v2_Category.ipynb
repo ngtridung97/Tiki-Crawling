{
 "cells": [
  {
   "cell_type": "code",
   "execution_count": null,
   "metadata": {
    "colab": {},
    "colab_type": "code",
    "id": "057hRocSAav0"
   },
   "outputs": [],
   "source": [
    "import requests\n",
    "from bs4 import BeautifulSoup\n",
    "import psycopg2\n",
    "from collections import deque\n",
    "import re"
   ]
  },
  {
   "cell_type": "code",
   "execution_count": null,
   "metadata": {},
   "outputs": [],
   "source": [
    "conn = psycopg2.connect(database=\"?\", user=\"?\", password=\"?\", host=\"?\", port=\"?\")\n",
    "conn.autocommit = True\n",
    "cur = conn.cursor()"
   ]
  },
  {
   "cell_type": "code",
   "execution_count": null,
   "metadata": {},
   "outputs": [],
   "source": [
    "tablename = 'public.tiki_category'\n",
    "query = f'''\n",
    "    create table if not exists {tablename} (\n",
    "        id serial primary key,\n",
    "        category_id integer,\n",
    "        category_name varchar,\n",
    "        url varchar,\n",
    "        parent_id integer,\n",
    "        batch timestamp default current_timestamp\n",
    "    );\n",
    "'''\n",
    "cur.execute(query)\n",
    "conn.commit()"
   ]
  },
  {
   "cell_type": "code",
   "execution_count": null,
   "metadata": {
    "colab": {},
    "colab_type": "code",
    "id": "ov5XuMowAav8"
   },
   "outputs": [],
   "source": [
    "class Category:\n",
    "    def __init__(self, id, cate_id, name, url, parent_id):\n",
    "        self.id = id\n",
    "        self.cate_id = cate_id\n",
    "        self.name = name\n",
    "        self.url = url\n",
    "        self.parent_id = parent_id\n",
    "        \n",
    "    def crawl_insert(self):\n",
    "        try:\n",
    "            query = f'''\n",
    "                insert into {tablename} (category_id, category_name, url, parent_id) \n",
    "                values(%s, %s, %s, %s)\n",
    "                returning category_id;\n",
    "            '''\n",
    "            val = (self.cate_id, self.name, self.url, self.parent_id)\n",
    "            cur.execute(query, val)\n",
    "            self.cate_id = cur.fetchone()[0]\n",
    "        except Exception as err:\n",
    "            print(err)"
   ]
  },
  {
   "cell_type": "code",
   "execution_count": null,
   "metadata": {},
   "outputs": [],
   "source": [
    "def get_web(url):\n",
    "    headers = {\"User-Agent\": \"Mozilla/5.0 (X11; Linux x86_64) AppleWebKit/537.36 (KHTML, like Gecko) Chrome/51.0.2704.103 Safari/537.36\"}\n",
    "    response = requests.get(url, headers=headers)\n",
    "    soup = BeautifulSoup(response.content, 'html.parser')\n",
    "    return soup"
   ]
  },
  {
   "cell_type": "code",
   "execution_count": null,
   "metadata": {
    "colab": {},
    "colab_type": "code",
    "id": "uPm88ueDAawA"
   },
   "outputs": [],
   "source": [
    "def get_main():\n",
    "    soup = get_web('https://tiki.vn')\n",
    "    main_category_list = []\n",
    "\n",
    "    try:\n",
    "        categories = soup.find_all('a', {'class', \"MenuItem__MenuLink-sc-181aa19-1 fKvTQu\"})\n",
    "        for c in categories:\n",
    "            id = None\n",
    "            main_name = c.text\n",
    "            main_url = c['href']\n",
    "            main_id = re.findall('([1-9][0-9]*)', main_url)[0]\n",
    "            main_parent_id = main_id\n",
    "\n",
    "            main_cate = Category(id, main_id, main_name, main_url, main_parent_id)\n",
    "            main_cate.crawl_insert()\n",
    "            main_category_list.append(main_cate)\n",
    "    except Exception as err:\n",
    "        print(err)\n",
    "        \n",
    "    return main_category_list"
   ]
  },
  {
   "cell_type": "code",
   "execution_count": null,
   "metadata": {
    "colab": {},
    "colab_type": "code",
    "id": "8L7d8KR_AawK"
   },
   "outputs": [],
   "source": [
    "def get_sub(parent_cate):\n",
    "    soup = get_web(parent_cate.url)\n",
    "    sub_category_list = []\n",
    "\n",
    "    try:\n",
    "        categories = soup.find_all('div', {'class': \"list-group-item is-child\"})\n",
    "        for c in categories:\n",
    "            id = None\n",
    "            sub_name = c.a.text.strip().split('                                ')[0].replace(\"'\", \"''\")\n",
    "            sub_url = 'https://tiki.vn' + c.a.get('href')\n",
    "            sub_id = re.findall('([1-9][0-9]*)', sub_url)[0]\n",
    "            sub_parent_id = parent_cate.cate_id\n",
    "            \n",
    "            sub_cate = Category(id, sub_id, sub_name, sub_url, sub_parent_id)\n",
    "            sub_cate.crawl_insert()\n",
    "            if sub_cate.cate_id is not None:\n",
    "                sub_category_list.append(sub_cate)\n",
    "    except Exception as err:\n",
    "        print(err)\n",
    "    \n",
    "    return sub_category_list"
   ]
  },
  {
   "cell_type": "code",
   "execution_count": null,
   "metadata": {
    "colab": {},
    "colab_type": "code",
    "id": "cCB97i9UAawM"
   },
   "outputs": [],
   "source": [
    "def get_all(main_cate):\n",
    "    queue = deque(main_cate)\n",
    "    while queue:\n",
    "        parent_cate = queue.popleft()\n",
    "        category_list = get_sub(parent_cate)\n",
    "        queue.extend(category_list)"
   ]
  },
  {
   "cell_type": "code",
   "execution_count": null,
   "metadata": {
    "colab": {},
    "colab_type": "code",
    "id": "pBr1FBjdAawO",
    "tags": []
   },
   "outputs": [],
   "source": [
    "%%time\n",
    "main_cate = get_main()\n",
    "get_all(main_cate)\n",
    "print('Crawl done!')"
   ]
  }
 ],
 "metadata": {
  "colab": {
   "name": "Tiki_crawl_categories.ipynb",
   "provenance": []
  },
  "kernelspec": {
   "display_name": "Python 3",
   "language": "python",
   "name": "python3"
  },
  "language_info": {
   "codemirror_mode": {
    "name": "ipython",
    "version": 3
   },
   "file_extension": ".py",
   "mimetype": "text/x-python",
   "name": "python",
   "nbconvert_exporter": "python",
   "pygments_lexer": "ipython3",
   "version": "3.7.4-final"
  }
 },
 "nbformat": 4,
 "nbformat_minor": 1
}