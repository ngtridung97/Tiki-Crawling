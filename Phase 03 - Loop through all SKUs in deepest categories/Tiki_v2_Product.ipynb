{
 "cells": [
  {
   "cell_type": "code",
   "execution_count": null,
   "metadata": {},
   "outputs": [],
   "source": [
    "import requests\n",
    "from bs4 import BeautifulSoup\n",
    "import psycopg2"
   ]
  },
  {
   "cell_type": "code",
   "execution_count": null,
   "metadata": {},
   "outputs": [],
   "source": [
    "conn = psycopg2.connect(database=\"?\", user=\"?\", password=\"?\", host=\"?\", port=\"?\")\n",
    "conn.autocommit = True\n",
    "cur = conn.cursor()"
   ]
  },
  {
   "cell_type": "code",
   "execution_count": null,
   "metadata": {},
   "outputs": [],
   "source": [
    "tablename = 'public.tiki_product'\n",
    "query = f'''\n",
    "    create table if not exists {tablename} (\n",
    "        id serial primary key,\n",
    "        category_id integer,\n",
    "        product_id numeric(10,0),\n",
    "        product_sku numeric(13,0),\n",
    "        brand_name varchar,\n",
    "        product_name varchar,\n",
    "        product_img varchar,\n",
    "        product_link varchar,\n",
    "        regular_price numeric(12,2),\n",
    "        final_price numeric(12,2),\n",
    "        voucher_price numeric(12,2),\n",
    "        tiki_now varchar,\n",
    "        voucher varchar,\n",
    "        installment varchar,\n",
    "        review varchar,\n",
    "        disc_perc varchar,\n",
    "        rating varchar,\n",
    "        batch timestamp default current_timestamp\n",
    "    );\n",
    "'''\n",
    "cur.execute(query)\n",
    "conn.commit()"
   ]
  },
  {
   "cell_type": "code",
   "execution_count": null,
   "metadata": {},
   "outputs": [],
   "source": [
    "query = f'''\n",
    "    select\n",
    "        a.category_id, a.category_name, a.url\n",
    "    from public.tiki_category as a\n",
    "    left join public.tiki_category as b\n",
    "        on a.category_id = b.parent_id\n",
    "    where b.category_name is null;\n",
    "'''\n",
    "cur.execute(query)\n",
    "cat = cur.fetchall()"
   ]
  },
  {
   "cell_type": "code",
   "execution_count": null,
   "metadata": {},
   "outputs": [],
   "source": [
    "def get_web(url):\n",
    "    headers = {\"User-Agent\": \"Mozilla/5.0 (X11; Linux x86_64) AppleWebKit/537.36 (KHTML, like Gecko) Chrome/51.0.2704.103 Safari/537.36\"}\n",
    "    response = requests.get(url, headers=headers)\n",
    "    soup = BeautifulSoup(response.content, 'html.parser')\n",
    "    return soup"
   ]
  },
  {
   "cell_type": "code",
   "execution_count": null,
   "metadata": {},
   "outputs": [],
   "source": [
    "def crawl_insert(cat, j, articles, k, cur, conn, tablename):\n",
    "\n",
    "    try:\n",
    "        category_id = cat[j][0]\n",
    "        product_id = \"0\" if articles[k]['data-seller-product-id'] == [] else articles[k]['data-seller-product-id'].strip()\n",
    "        product_sku = \"0\" if articles[k]['product-sku'] == [] else articles[k]['product-sku'].strip()\n",
    "        brand_name = articles[k]['data-brand'].strip().replace(\"'\", \"''\")\n",
    "        product_name = articles[k]['data-title'].strip().replace(\"'\", \"''\")\n",
    "        product_img = articles[k].img['src'].strip().replace(\"'\", \"''\")\n",
    "        product_link = 'https://tiki.vn' + articles[k].a['href'].replace(\"'\", \"''\")\n",
    "        final_price = articles[k].find_all('span', {'class': \"final-price\"})[0].text.strip().replace(\"đ\", \"\").replace(\".\", \"\").split(' ')[0]\n",
    "        regular_price = final_price if articles[k].find_all('span', {'class': \"price-regular\"}) == [] else articles[k].find_all('span', {'class': \"price-regular\"})[0].text.strip().replace(\"đ\", \"\").replace(\".\", \"\").split(' ')[0]\n",
    "        voucher_price = [final_price if articles[k].find_all('p', {'class': \"price-tag\"}) == [] else articles[k].find_all('span', {'class': \"price\"})[0].find('span').text.replace(\"đ\", \"\").replace(\".\", \"\")][0]\n",
    "        tiki_now = \"N\" if articles[k].find_all('div', {'class': \"badge-service\"}) == [] else \"Y\"\n",
    "        voucher = [\"?\" if articles[k].find_all('p', {'class': \"price-tag\"}) == [] else articles[k].find_all('span', {'class': \"code\"})[0].text][0]\n",
    "        installment = [\"?\" if articles[k].find_all('span', {'class': \"installment-price-v2\"}) == [] else articles[k].find_all('span', {'class': \"installment-price-v2\"})[0].text][0]\n",
    "        review = [articles[k].find_all('p', {'class': \"review\"})[0].text.strip('\\(\\)') if articles[k].find_all('p', {'class': \"review\"}) != [] else \"Chưa có nhận xét\"][0]\n",
    "        disc_perc = \"0%\" if articles[k].find_all('span', {'class': \"sale-tag sale-tag-square\"}) == [] else articles[k].find_all('span', {'class': \"sale-tag sale-tag-square\"})[0].text.strip().split(' ')[0]\n",
    "        rating = [\"?\" if articles[k].find_all('span', {'class': \"rating-content\"}) == [] else articles[k].find_all('span', {'class': \"rating-content\"})[0].find('span')['style'].split(':')[1]][0]\n",
    "        \n",
    "        query = f'''insert into {tablename} (category_id, product_id, product_sku, brand_name, product_name, product_img, product_link, regular_price, final_price, voucher_price, tiki_now, disc_perc, voucher, installment, review, rating)\n",
    "            values('{category_id}', '{product_id}', '{product_sku}', '{brand_name}', '{product_name}', '{product_img}', '{product_link}', '{regular_price}', '{final_price}', '{voucher_price}', '{tiki_now}', '{disc_perc}', '{voucher}', '{installment}', '{review}', '{rating}'\n",
    "            );\n",
    "        '''\n",
    "\n",
    "        cur.execute(query)\n",
    "        conn.commit()\n",
    "    except Exception as err:\n",
    "        print(err)"
   ]
  },
  {
   "cell_type": "code",
   "execution_count": null,
   "metadata": {
    "tags": []
   },
   "outputs": [],
   "source": [
    "%%time\n",
    "for j in range(len(cat)):\n",
    "    try:\n",
    "        soup = get_web(cat[j][2])\n",
    "        articles = soup.find_all('div', {'class': \"product-item\"})\n",
    "        print('Looping: ' + cat[j][2])\n",
    "        for k in range(len(articles)):\n",
    "            crawl_insert(cat, j, articles, k, cur, conn, tablename)\n",
    "\n",
    "        links = soup.find_all('div', {'class': \"list-pager\"})\n",
    "        if links != []:\n",
    "            try:\n",
    "                while links[0].find_all('a', {'class': \"next\"}) != []:  \n",
    "                    soup = get_web('https://tiki.vn' + links[0].find_all('a', {'class': \"next\"})[0]['href'])\n",
    "                    articles = soup.find_all('div', {'class': \"product-item\"})\n",
    "                    print('Looping: ', cat[j][1], links[0].find_all('a', {'class': \"next\"})[0]['href'].split('&')[1], sep=' ')\n",
    "                    for i in range(len(articles)):\n",
    "                        crawl_insert(cat, j, articles, i, cur, conn, tablename)\n",
    "                    links = soup.find_all('div', {'class': \"list-pager\"})\n",
    "            except Exception as err:\n",
    "                print(err)\n",
    "                continue\n",
    "    except Exception as err:\n",
    "        print(err)\n",
    "        continue\n",
    "        \n",
    "print('Crawl done!')"
   ]
  }
 ],
 "metadata": {
  "kernelspec": {
   "display_name": "Python 3",
   "language": "python",
   "name": "python3"
  },
  "language_info": {
   "codemirror_mode": {
    "name": "ipython",
    "version": 3
   },
   "file_extension": ".py",
   "mimetype": "text/x-python",
   "name": "python",
   "nbconvert_exporter": "python",
   "pygments_lexer": "ipython3",
   "version": "3.7.4-final"
  }
 },
 "nbformat": 4,
 "nbformat_minor": 2
}