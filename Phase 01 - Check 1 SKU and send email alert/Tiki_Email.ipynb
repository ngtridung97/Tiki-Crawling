{
 "cells": [
  {
   "cell_type": "code",
   "execution_count": null,
   "metadata": {},
   "outputs": [],
   "source": [
    "import requests\n",
    "from bs4 import BeautifulSoup\n",
    "import time\n",
    "from time import localtime, strftime\n",
    "import smtplib, ssl\n",
    "from email.mime.text import MIMEText\n",
    "from email.mime.multipart import MIMEMultipart"
   ]
  },
  {
   "cell_type": "code",
   "execution_count": null,
   "metadata": {},
   "outputs": [],
   "source": [
    "def get_web(item_url):\n",
    "    headers = {\"User-Agent\": \"Mozilla/5.0 (X11; Linux x86_64) AppleWebKit/537.36 (KHTML, like Gecko) Chrome/51.0.2704.103 Safari/537.36\"}\n",
    "    response = requests.get(item_url, headers=headers)\n",
    "    soup = BeautifulSoup(response.content, 'html.parser')\n",
    "    return soup"
   ]
  },
  {
   "cell_type": "code",
   "execution_count": null,
   "metadata": {},
   "outputs": [],
   "source": [
    "def send_mail(tittle, item_url, base_price, discount_perc):\n",
    "    mailfrom = 'ng.tridung1610@gmail.com'\n",
    "    pwd = input('Please type your sender password:')\n",
    "    mailto = 'ng.tridung97@gmail.com'\n",
    "    subject = tittle + ' from your Tiki wishlist is now on sale!'\n",
    "\n",
    "    msg = MIMEMultipart('alternative')\n",
    "    msg['Subject'] = subject\n",
    "    msg['From'] = mailfrom\n",
    "    msg['To'] = mailto\n",
    "\n",
    "    body = '1 item you have wished for is now on sale!: ' + item_url  + '\\n\\n' \\\n",
    "        + '\\t' + 'Item: ' + tittle + '.' + '\\n' \\\n",
    "        + '\\t' + 'Price: ' + '{:,.2f}₫'.format(float(base_price)) + '.' + '\\n' \\\n",
    "        + '\\t' + 'Discount: ' + str(discount_perc*-1) + '%.' + '\\n\\n' \\\n",
    "        + 'Specific pricing and discounts may be subject to change. Please check above link for details.' + '\\n\\n' \\\n",
    "        + 'Best Regards,'\n",
    "\n",
    "    body = MIMEText(body, 'plain')\n",
    "    msg.attach(body)\n",
    "    msg = msg.as_string().encode('utf8')\n",
    "\n",
    "    try:\n",
    "        current_time = strftime('%d-%m-%Y %H:%M:%S', localtime())\n",
    "        context = ssl.create_default_context()\n",
    "        server = smtplib.SMTP('smtp.gmail.com', 587)\n",
    "        with server:\n",
    "            server.ehlo()\n",
    "            server.starttls(context=context)\n",
    "            server.ehlo()\n",
    "            server.login(mailfrom, pwd)\n",
    "            server.sendmail(mailfrom, mailto, msg)\n",
    "            server.quit()\n",
    "        print('Item: ' + tittle + ' | Email sent at: ' + current_time)\n",
    "    except Exception as err:\n",
    "        print(err)"
   ]
  },
  {
   "cell_type": "code",
   "execution_count": null,
   "metadata": {
    "tags": []
   },
   "outputs": [],
   "source": [
    "def check_price():\n",
    "    item_url = 'https://tiki.vn/nhung-ke-xuat-chung-tai-ban-2019-p13332055.html?spid=13332056'\n",
    "    soup = get_web(item_url)\n",
    "\n",
    "    try:\n",
    "        tittle = soup.find(lambda tag: tag.name == 'h1' and tag.get('class') == ['title']).get_text().strip()\n",
    "        ori_price = soup.find(lambda tag: tag.name == 'p' and tag.get('class') == ['original-price']).get_text().replace('.', '').replace(' ₫', '').replace(' ', '').replace('Giáthịtrường:', '').strip()\n",
    "        base_price = soup.find(lambda tag: tag.name == 'p' and tag.get('class') == ['price']).get_text().replace('.', '').replace(' ₫', '').replace(' ', '').strip()\n",
    "        discount_perc = int((float(ori_price) - float(base_price))*100/float(ori_price))\n",
    "        vendor = soup.find(lambda tag: tag.name == 'a' and tag.get('class') == ['seller-name']).get_text().strip()\n",
    "        \n",
    "        if(discount_perc >= 15): #more than 15% discount\n",
    "            send_mail(tittle, item_url, base_price, discount_perc)\n",
    "    except Exception as err:\n",
    "        print(err)"
   ]
  },
  {
   "cell_type": "code",
   "execution_count": null,
   "metadata": {
    "tags": []
   },
   "outputs": [],
   "source": [
    "while(True):\n",
    "    check_price()\n",
    "    time.sleep(300)\n",
    "    \n",
    "# Currently I'm thinking about get historical pricing for a week. Then make a function to compare curent price with the average last week. Crawl data can be store in DB or csv."
   ]
  }
 ],
 "metadata": {
  "language_info": {
   "codemirror_mode": {
    "name": "ipython",
    "version": 3
   },
   "file_extension": ".py",
   "mimetype": "text/x-python",
   "name": "python",
   "nbconvert_exporter": "python",
   "pygments_lexer": "ipython3",
   "version": "3.7.4-final"
  },
  "orig_nbformat": 2,
  "kernelspec": {
   "name": "python3",
   "display_name": "Python 3"
  }
 },
 "nbformat": 4,
 "nbformat_minor": 2
}