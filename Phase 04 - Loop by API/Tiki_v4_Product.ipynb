{
 "cells": [
  {
   "cell_type": "code",
   "execution_count": null,
   "source": [
    "import requests\r\n",
    "import json\r\n",
    "import pandas as pd\r\n",
    "import os"
   ],
   "outputs": [],
   "metadata": {}
  },
  {
   "cell_type": "code",
   "execution_count": null,
   "source": [
    "category_path = 'Product.csv'\r\n",
    "if os.path.exists(category_path):\r\n",
    "    os.remove(category_path)"
   ],
   "outputs": [],
   "metadata": {}
  },
  {
   "cell_type": "code",
   "execution_count": null,
   "source": [
    "def get_web(url):\r\n",
    "    headers = {\"User-Agent\": \"Mozilla/5.0 (X11; Linux x86_64) AppleWebKit/537.36 (KHTML, like Gecko) Chrome/51.0.2704.103 Safari/537.36\"}\r\n",
    "    response = requests.get(url, headers=headers)\r\n",
    "    return response"
   ],
   "outputs": [],
   "metadata": {}
  },
  {
   "cell_type": "code",
   "execution_count": null,
   "source": [
    "def get_prod(cate_id):\r\n",
    "    prod_url = 'https://tiki.vn/api/personalish/v1/blocks/listings?category='\r\n",
    "    prod_data = get_web(prod_url + str(cate_id)).json()\r\n",
    "\r\n",
    "    start_page = int(prod_data['paging']['from'])\r\n",
    "    end_page = int(prod_data['paging']['last_page'])\r\n",
    "\r\n",
    "    prod_list = []\r\n",
    "    for i in range(start_page, end_page + 1):\r\n",
    "        prod_page_url = prod_url + str(cate_id) + '&page=' + str(i)\r\n",
    "        prod_page_data = get_web(prod_page_url).json()\r\n",
    "\r\n",
    "        j = 0\r\n",
    "        for d in prod_page_data['data']:\r\n",
    "            query_id = prod_page_data['data'][j]['id']\r\n",
    "            sku_id = prod_page_data['data'][j]['sku']\r\n",
    "            prod_name = prod_page_data['data'][j]['name']\r\n",
    "            brand_name = prod_page_data['data'][j]['brand_name']\r\n",
    "            price = prod_page_data['data'][j]['price']\r\n",
    "            origin_price = prod_page_data['data'][j]['original_price']\r\n",
    "            discount_perc = prod_page_data['data'][j]['discount_rate']\r\n",
    "            stock_qty = prod_page_data['data'][j]['stock_item']['qty']\r\n",
    "            sold_qty = 0 if prod_page_data['data'][j]['quantity_sold'] is None else prod_page_data['data'][j]['quantity_sold']['value']\r\n",
    "            review_count = prod_page_data['data'][j]['review_count']\r\n",
    "            rating_avg = prod_page_data['data'][j]['rating_average']\r\n",
    "            seller_id = prod_page_data['data'][j]['seller_product_id']\r\n",
    "            cate_id = cate_id\r\n",
    "            \r\n",
    "            df = pd.DataFrame((query_id, sku_id, prod_name, brand_name, price, origin_price, discount_perc, stock_qty, sold_qty, review_count, rating_avg, seller_id, cate_id)).T\r\n",
    "            df.to_csv(category_path, sep='\\t', encoding='utf-16', mode='a', header=False, index=False)\r\n",
    "            prod_list.append((query_id, sku_id, prod_name, brand_name, price, origin_price, discount_perc, stock_qty, sold_qty, review_count, rating_avg, seller_id, cate_id))\r\n",
    "            j += 1\r\n",
    "            \r\n",
    "    return prod_list"
   ],
   "outputs": [],
   "metadata": {}
  },
  {
   "cell_type": "code",
   "execution_count": null,
   "source": [
    "df = pd.read_csv('Category_py.csv', sep='\\t', encoding='utf-16', names=('cate_id', 'cate_name', 'parent_id'))\r\n",
    "merge = pd.merge(df, df, left_on = ['cate_id'], right_on= ['parent_id'], how = 'left')\r\n",
    "merge = merge[merge['cate_id_y'].isnull()]\r\n",
    "merge = merge[['cate_id_x']]\r\n",
    "merge.rename(columns = {'cate_id_x' : 'cate_name'}, inplace = True)"
   ],
   "outputs": [],
   "metadata": {}
  },
  {
   "cell_type": "code",
   "execution_count": null,
   "source": [
    "%%time\r\n",
    "for index, row in merge.iterrows():\r\n",
    "    get_prod(row['cate_name'])\r\n",
    "\r\n",
    "print('Crawl done!')"
   ],
   "outputs": [],
   "metadata": {}
  }
 ],
 "metadata": {
  "kernelspec": {
   "name": "python3",
   "display_name": "Python 3.8.8 64-bit ('base': conda)"
  },
  "language_info": {
   "codemirror_mode": {
    "name": "ipython",
    "version": 3
   },
   "file_extension": ".py",
   "mimetype": "text/x-python",
   "name": "python",
   "nbconvert_exporter": "python",
   "pygments_lexer": "ipython3",
   "version": "3.8.8"
  },
  "interpreter": {
   "hash": "7b1197788472a4cc6363d31adf4b1d6265b22dc7282dcb10804197892731e203"
  }
 },
 "nbformat": 4,
 "nbformat_minor": 2
}