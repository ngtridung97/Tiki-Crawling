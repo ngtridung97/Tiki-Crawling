{
 "cells": [
  {
   "cell_type": "code",
   "execution_count": null,
   "metadata": {},
   "outputs": [],
   "source": [
    "import requests\n",
    "from collections import deque\n",
    "import json\n",
    "import re\n",
    "import pandas as pd\n",
    "import os"
   ]
  },
  {
   "cell_type": "code",
   "execution_count": null,
   "metadata": {},
   "outputs": [],
   "source": [
    "category_path = 'Category.csv'\n",
    "if os.path.exists(category_path):\n",
    "    os.remove(category_path)"
   ]
  },
  {
   "cell_type": "code",
   "execution_count": null,
   "metadata": {},
   "outputs": [],
   "source": [
    "def get_web(url):\n",
    "    headers = {\"User-Agent\": \"Mozilla/5.0 (X11; Linux x86_64) AppleWebKit/537.36 (KHTML, like Gecko) Chrome/51.0.2704.103 Safari/537.36\"}\n",
    "    response = requests.get(url, headers=headers)\n",
    "    return response"
   ]
  },
  {
   "cell_type": "code",
   "execution_count": null,
   "metadata": {},
   "outputs": [],
   "source": [
    "def get_main():\n",
    "    url = 'https://api.tiki.vn/shopping/v2/widgets/home-category-tab-bar'\n",
    "    data = get_web(url).json()\n",
    "\n",
    "    cate_list = []\n",
    "    i = 0\n",
    "    for d in data['data']:\n",
    "        try:\n",
    "            query_id = re.findall('([1-9][0-9]*)', data['data'][i]['url'])[0]\n",
    "            title = data['data'][i]['name']\n",
    "            parent_id = '0'\n",
    "\n",
    "            df = pd.DataFrame((query_id, title, parent_id)).T\n",
    "            df.to_csv(category_path, sep='\\t', encoding='utf-16', mode='a', header=False, index=False)\n",
    "            cate_list.append((query_id, title, parent_id))\n",
    "        except Exception as err:\n",
    "            print(err)\n",
    "        i += 1\n",
    "\n",
    "    return cate_list"
   ]
  },
  {
   "cell_type": "code",
   "execution_count": null,
   "metadata": {},
   "outputs": [],
   "source": [
    "def get_sub(parent_cate):\n",
    "    id = str(parent_cate[0])\n",
    "    sub_url = 'https://tiki.vn/api/personalish/v1/blocks/listings?category='\n",
    "    sub_data = get_web(sub_url + id).json()\n",
    "\n",
    "    sub_cate_list = []\n",
    "    if sub_data['filters'][0]['display_name'] == 'Danh Mục Sản Phẩm':\n",
    "        i = 0\n",
    "        for s in sub_data['filters'][0]['values']:\n",
    "            try:\n",
    "                query_id = str(sub_data['filters'][0]['values'][i]['query_value'])\n",
    "                title = sub_data['filters'][0]['values'][i]['display_value']\n",
    "                parent_id = parent_cate[0]\n",
    "\n",
    "                df = pd.DataFrame((query_id, title, parent_id)).T\n",
    "                df.to_csv(category_path, sep='\\t', encoding='utf-16', mode='a', header=False, index=False)\n",
    "                sub_cate_list.append((query_id, title, parent_id))\n",
    "            except Exception as err:\n",
    "                print(err)\n",
    "            i += 1\n",
    "            \n",
    "    return sub_cate_list"
   ]
  },
  {
   "cell_type": "code",
   "execution_count": null,
   "metadata": {},
   "outputs": [],
   "source": [
    "def get_all(main_cate):\n",
    "    queue = deque(main_cate)\n",
    "    while queue:\n",
    "        parent_cate = queue.popleft()\n",
    "        category_list = get_sub(parent_cate)\n",
    "        queue.extend(category_list)"
   ]
  },
  {
   "cell_type": "code",
   "execution_count": null,
   "metadata": {},
   "outputs": [],
   "source": [
    "%%time\n",
    "main_cate = get_main()\n",
    "get_all(main_cate)\n",
    "    \n",
    "print('Crawl done!')"
   ]
  }
 ],
 "metadata": {
  "interpreter": {
   "hash": "7b1197788472a4cc6363d31adf4b1d6265b22dc7282dcb10804197892731e203"
  },
  "kernelspec": {
   "display_name": "Python 3.8.8 64-bit ('base': conda)",
   "name": "python3"
  },
  "language_info": {
   "codemirror_mode": {
    "name": "ipython",
    "version": 3
   },
   "file_extension": ".py",
   "mimetype": "text/x-python",
   "name": "python",
   "nbconvert_exporter": "python",
   "pygments_lexer": "ipython3",
   "version": "3.9.7"
  }
 },
 "nbformat": 4,
 "nbformat_minor": 2
}
