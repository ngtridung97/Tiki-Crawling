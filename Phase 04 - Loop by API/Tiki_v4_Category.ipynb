{
 "cells": [
  {
   "cell_type": "code",
   "execution_count": null,
   "source": [
    "import requests\r\n",
    "from collections import deque\r\n",
    "import json\r\n",
    "import re\r\n",
    "import pandas as pd\r\n",
    "import os"
   ],
   "outputs": [],
   "metadata": {}
  },
  {
   "cell_type": "code",
   "execution_count": null,
   "source": [
    "category_path = 'Category.csv'\r\n",
    "if os.path.exists(category_path):\r\n",
    "    os.remove(category_path)"
   ],
   "outputs": [],
   "metadata": {}
  },
  {
   "cell_type": "code",
   "execution_count": null,
   "source": [
    "def get_web(url):\r\n",
    "    headers = {\"User-Agent\": \"Mozilla/5.0 (X11; Linux x86_64) AppleWebKit/537.36 (KHTML, like Gecko) Chrome/51.0.2704.103 Safari/537.36\"}\r\n",
    "    response = requests.get(url, headers=headers)\r\n",
    "    return response"
   ],
   "outputs": [],
   "metadata": {}
  },
  {
   "cell_type": "code",
   "execution_count": null,
   "source": [
    "def get_main():\r\n",
    "    url = 'https://tiki.vn/api/shopping/v2/mega_menu'\r\n",
    "    data = get_web(url).json()\r\n",
    "\r\n",
    "    cate_list = []\r\n",
    "    i = 0\r\n",
    "    for d in data['data']:\r\n",
    "        try:\r\n",
    "            query_id = re.findall('([1-9][0-9]*)', data['data'][i]['item']['url'])[0]\r\n",
    "            title = data['data'][i]['item']['title']\r\n",
    "            parent_id = '0'\r\n",
    "\r\n",
    "            df = pd.DataFrame((query_id, title, parent_id)).T\r\n",
    "            df.to_csv(category_path, sep='\\t', encoding='utf-16', mode='a', header=False, index=False)\r\n",
    "            cate_list.append((query_id, title, parent_id))\r\n",
    "        except Exception as err:\r\n",
    "            print(err)\r\n",
    "        i += 1\r\n",
    "\r\n",
    "    return cate_list"
   ],
   "outputs": [],
   "metadata": {}
  },
  {
   "cell_type": "code",
   "execution_count": null,
   "source": [
    "def get_sub(parent_cate):\r\n",
    "    id = str(parent_cate[0])\r\n",
    "    sub_url = 'https://tiki.vn/api/personalish/v1/blocks/listings?category='\r\n",
    "    sub_data = get_web(sub_url + id).json()\r\n",
    "\r\n",
    "    sub_cate_list = []\r\n",
    "    if sub_data['filters'][0]['display_name'] == 'Danh Mục Sản Phẩm':\r\n",
    "        i = 0\r\n",
    "        for s in sub_data['filters'][0]['values']:\r\n",
    "            try:\r\n",
    "                query_id = str(sub_data['filters'][0]['values'][i]['query_value'])\r\n",
    "                title = sub_data['filters'][0]['values'][i]['display_value']\r\n",
    "                parent_id = parent_cate[0]\r\n",
    "\r\n",
    "                df = pd.DataFrame((query_id, title, parent_id)).T\r\n",
    "                df.to_csv(category_path, sep='\\t', encoding='utf-16', mode='a', header=False, index=False)\r\n",
    "                sub_cate_list.append((query_id, title, parent_id))\r\n",
    "            except Exception as err:\r\n",
    "                print(err)\r\n",
    "            i += 1\r\n",
    "            \r\n",
    "    return sub_cate_list"
   ],
   "outputs": [],
   "metadata": {}
  },
  {
   "cell_type": "code",
   "execution_count": null,
   "source": [
    "def get_all(main_cate):\r\n",
    "    queue = deque(main_cate)\r\n",
    "    while queue:\r\n",
    "        parent_cate = queue.popleft()\r\n",
    "        category_list = get_sub(parent_cate)\r\n",
    "        queue.extend(category_list)"
   ],
   "outputs": [],
   "metadata": {}
  },
  {
   "cell_type": "code",
   "execution_count": null,
   "source": [
    "%%time\r\n",
    "main_cate = get_main()\r\n",
    "get_all(main_cate)\r\n",
    "    \r\n",
    "print('Crawl done!')"
   ],
   "outputs": [],
   "metadata": {}
  }
 ],
 "metadata": {
  "kernelspec": {
   "name": "python3",
   "display_name": "Python 3.8.8 64-bit ('base': conda)"
  },
  "language_info": {
   "codemirror_mode": {
    "name": "ipython",
    "version": 3
   },
   "file_extension": ".py",
   "mimetype": "text/x-python",
   "name": "python",
   "nbconvert_exporter": "python",
   "pygments_lexer": "ipython3",
   "version": "3.8.8"
  },
  "interpreter": {
   "hash": "7b1197788472a4cc6363d31adf4b1d6265b22dc7282dcb10804197892731e203"
  }
 },
 "nbformat": 4,
 "nbformat_minor": 2
}